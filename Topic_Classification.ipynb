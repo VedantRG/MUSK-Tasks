{
 "cells": [
  {
   "cell_type": "code",
   "execution_count": 1,
   "metadata": {},
   "outputs": [],
   "source": [
    "import pandas as pd"
   ]
  },
  {
   "cell_type": "code",
   "execution_count": 2,
   "metadata": {},
   "outputs": [],
   "source": [
    "train_path = \"dataset/BBC_News_Train.csv\"\n",
    "train_df = pd.read_csv(train_path)\n",
    "test_path = \"dataset/BBC_News_Test.csv\"\n",
    "test_df = pd.read_csv(test_path)"
   ]
  },
  {
   "cell_type": "code",
   "execution_count": 16,
   "metadata": {},
   "outputs": [
    {
     "name": "stdout",
     "output_type": "stream",
     "text": [
      "Index(['ArticleId', 'Text', 'Category'], dtype='object')\n",
      "Index(['ArticleId', 'Text'], dtype='object')\n"
     ]
    }
   ],
   "source": [
    "print(train_df.columns)\n",
    "print(test_df.columns)"
   ]
  },
  {
   "cell_type": "code",
   "execution_count": 11,
   "metadata": {},
   "outputs": [
    {
     "name": "stdout",
     "output_type": "stream",
     "text": [
      "0            business\n",
      "1            business\n",
      "2            business\n",
      "3                tech\n",
      "4            business\n",
      "            ...      \n",
      "1485    entertainment\n",
      "1486    entertainment\n",
      "1487         business\n",
      "1488             tech\n",
      "1489             tech\n",
      "Name: Category, Length: 1490, dtype: object\n"
     ]
    }
   ],
   "source": [
    "print(train_df['Category'])"
   ]
  },
  {
   "cell_type": "code",
   "execution_count": 13,
   "metadata": {},
   "outputs": [
    {
     "data": {
      "text/plain": [
       "['business', 'tech', 'politics', 'sport', 'entertainment']"
      ]
     },
     "execution_count": 13,
     "metadata": {},
     "output_type": "execute_result"
    }
   ],
   "source": [
    "categories = list(train_df['Category'].unique())"
   ]
  },
  {
   "cell_type": "code",
   "execution_count": 14,
   "metadata": {},
   "outputs": [],
   "source": [
    "train_df['Category'] = train_df.Category.map({'business':1, 'tech':2, 'politics':3, 'sport':4, 'entertainment':5})"
   ]
  },
  {
   "cell_type": "code",
   "execution_count": 15,
   "metadata": {},
   "outputs": [
    {
     "name": "stdout",
     "output_type": "stream",
     "text": [
      "0       1\n",
      "1       1\n",
      "2       1\n",
      "3       2\n",
      "4       1\n",
      "       ..\n",
      "1485    5\n",
      "1486    5\n",
      "1487    1\n",
      "1488    2\n",
      "1489    2\n",
      "Name: Category, Length: 1490, dtype: int64\n"
     ]
    }
   ],
   "source": [
    "print(train_df['Category'])"
   ]
  },
  {
   "cell_type": "code",
   "execution_count": 17,
   "metadata": {},
   "outputs": [],
   "source": [
    "x_train = train_df['Text']\n",
    "y_train = train_df['Category']\n",
    "x_test = test_df['Text']"
   ]
  },
  {
   "cell_type": "code",
   "execution_count": 18,
   "metadata": {},
   "outputs": [
    {
     "name": "stdout",
     "output_type": "stream",
     "text": [
      "Training dataset:  1490\n",
      "Test dataset:  735\n"
     ]
    }
   ],
   "source": [
    "print(\"Training dataset: \", x_train.shape[0])\n",
    "print(\"Test dataset: \", x_test.shape[0])"
   ]
  },
  {
   "cell_type": "code",
   "execution_count": 19,
   "metadata": {},
   "outputs": [
    {
     "name": "stdout",
     "output_type": "stream",
     "text": [
      "0       worldcom ex-boss launches defence lawyers defe...\n",
      "1       german business confidence slides german busin...\n",
      "2       bbc poll indicates economic gloom citizens in ...\n",
      "3       lifestyle  governs mobile choice  faster  bett...\n",
      "4       enron bosses in $168m payout eighteen former e...\n",
      "                              ...                        \n",
      "1485    double eviction from big brother model caprice...\n",
      "1486    dj double act revamp chart show dj duo jk and ...\n",
      "1487    weak dollar hits reuters revenues at media gro...\n",
      "1488    apple ipod family expands market apple has exp...\n",
      "1489    santy worm makes unwelcome visit thousands of ...\n",
      "Name: Text, Length: 1490, dtype: object\n"
     ]
    }
   ],
   "source": [
    "print(x_train)"
   ]
  },
  {
   "cell_type": "code",
   "execution_count": 25,
   "metadata": {},
   "outputs": [],
   "source": [
    "from sklearn.feature_extraction.text import CountVectorizer"
   ]
  },
  {
   "cell_type": "code",
   "execution_count": 26,
   "metadata": {},
   "outputs": [],
   "source": [
    "count_vector = CountVectorizer(stop_words = 'english')\n",
    "training_data = count_vector.fit_transform(x_train)\n",
    "testing_data = count_vector.transform(x_test)"
   ]
  },
  {
   "cell_type": "code",
   "execution_count": 27,
   "metadata": {},
   "outputs": [
    {
     "data": {
      "text/plain": [
       "MultinomialNB(alpha=1.0, class_prior=None, fit_prior=True)"
      ]
     },
     "execution_count": 27,
     "metadata": {},
     "output_type": "execute_result"
    }
   ],
   "source": [
    "from sklearn.naive_bayes import MultinomialNB\n",
    "\n",
    "naive_bayes = MultinomialNB()\n",
    "naive_bayes.fit(training_data, y_train)"
   ]
  },
  {
   "cell_type": "code",
   "execution_count": 33,
   "metadata": {},
   "outputs": [],
   "source": [
    "classification = naive_bayes.predict(training_data)"
   ]
  },
  {
   "cell_type": "code",
   "execution_count": 36,
   "metadata": {},
   "outputs": [
    {
     "name": "stdout",
     "output_type": "stream",
     "text": [
      "For Training Data\n",
      "Accuracy score:  0.9959731543624161\n",
      "Recall score:  0.9959731543624161\n",
      "Precision score:  0.9960016573629715\n",
      "F1 score:  0.9959801426705056\n"
     ]
    }
   ],
   "source": [
    "from sklearn.metrics import accuracy_score, recall_score, precision_score, f1_score\n",
    "\n",
    "print(\"For Training Data\")\n",
    "print(\"Accuracy score: \", accuracy_score(y_train, classification))\n",
    "print(\"Recall score: \", recall_score(y_train, classification, average = 'weighted'))\n",
    "print(\"Precision score: \", precision_score(y_train, classification, average = 'weighted'))\n",
    "print(\"F1 score: \", f1_score(y_train, classification, average = 'weighted'))"
   ]
  },
  {
   "cell_type": "code",
   "execution_count": 37,
   "metadata": {},
   "outputs": [],
   "source": [
    "test_classification = naive_bayes.predict(testing_data)"
   ]
  },
  {
   "cell_type": "code",
   "execution_count": null,
   "metadata": {},
   "outputs": [],
   "source": []
  }
 ],
 "metadata": {
  "kernelspec": {
   "display_name": "Python 3",
   "language": "python",
   "name": "python3"
  },
  "language_info": {
   "codemirror_mode": {
    "name": "ipython",
    "version": 3
   },
   "file_extension": ".py",
   "mimetype": "text/x-python",
   "name": "python",
   "nbconvert_exporter": "python",
   "pygments_lexer": "ipython3",
   "version": "3.7.1"
  }
 },
 "nbformat": 4,
 "nbformat_minor": 4
}
