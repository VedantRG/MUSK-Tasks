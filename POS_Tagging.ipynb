{
 "cells": [
  {
   "cell_type": "code",
   "execution_count": 1,
   "metadata": {},
   "outputs": [],
   "source": [
    "# I have used Spacy to tokanize and tag the words\n",
    "import spacy"
   ]
  },
  {
   "cell_type": "code",
   "execution_count": 2,
   "metadata": {},
   "outputs": [],
   "source": [
    "sp = spacy.load('en_core_web_sm')"
   ]
  },
  {
   "cell_type": "code",
   "execution_count": 3,
   "metadata": {},
   "outputs": [],
   "source": [
    "text = \"The government's cybersecurity agency Cert-In has warned against incidents of credit card skimming on\\\n",
    "e-commerce websites worldwide. In online credit card skimming, cyber criminals add skimming code on\\\n",
    "online shopping websites to steal credit card information shared by customers.\\\n",
    "As per Cert-In, \\\" Attackers are typically targeting e-commerce sites because of their wide presence,\\\n",
    "popularity and the environment LAMP ( Linux, Apache, MySQL, and PHP ) . \\\" The Cert-In's advisory is based \\\n",
    "on Malwarebytes recent report. According to the report, all the compromised sites identified had a\\\n",
    "shopping portal, and this is exactly what the attackers were after.\"\n",
    "text = text.replace(\"-\",\"\") #Convert words containing - into single word"
   ]
  },
  {
   "cell_type": "code",
   "execution_count": 4,
   "metadata": {},
   "outputs": [],
   "source": [
    "my_model = sp(text)    #Load sp model with the text"
   ]
  },
  {
   "cell_type": "code",
   "execution_count": 5,
   "metadata": {},
   "outputs": [],
   "source": [
    "#data is dictionary to store complete information. Keys are POS and corresponding list of words are stored as values\n",
    "data = {}\n",
    "for word in my_model:\n",
    "    #Remove different punctuations\n",
    "    if(word.pos_ != 'PUNCT' and word.pos_ != 'PART'):  \n",
    "        detail = spacy.explain(word.tag_)\n",
    "        #get name of POS from detail of word tag\n",
    "        detail = detail.split(\",\")\n",
    "        _pos = detail[0]\n",
    "        #manage parts of speech\n",
    "        if _pos == 'wh-pronoun':\n",
    "            _pos = 'pronoun' \n",
    "        elif _pos == 'predeterminer':\n",
    "            _pos = 'determiner'\n",
    "        current_word = word.text\n",
    "        #convert all words to lowercase to avoid ambiguity\n",
    "        current_word = current_word.lower()\n",
    "        if _pos not in data.keys():\n",
    "            data[_pos] = [current_word]\n",
    "        else:\n",
    "            data[_pos].append(current_word)"
   ]
  },
  {
   "cell_type": "code",
   "execution_count": 6,
   "metadata": {},
   "outputs": [
    {
     "name": "stdout",
     "output_type": "stream",
     "text": [
      "Part of Speech Count      Words     \n",
      "Determiner      3          ['all', 'this', 'the']\n",
      "Noun            31         ['card', 'environment', 'php', 'shopping', 'linux', 'incidents', 'attackers', 'sites', 'onecommerce', 'mysql', 'cybersecurity', 'presence', 'code', 'websites', 'cyber', 'ononline', 'skimming', 'certin', 'lamp', 'malwarebytes', 'advisory', 'credit', 'report', 'information', 'criminals', 'apache', 'ecommerce', 'agency', 'popularity', 'government', 'customers']\n",
      "Verb            16         ['are', 'were', 'based', 'had', 'warned', 'shared', 'identified', 'compromised', 'is', 'skimming', 'according', 'add', 'ashopping', 'targeting', 'has', 'steal']\n",
      "Conjunction     10         ['because', 'in', 'by', 'and', 'per', 'as', 'on', 'against', 'of', 'to']\n",
      "Adverb          4          ['exactly', 'after', 'worldwide', 'typically']\n",
      "Adjective       4          ['wide', 'recent', 'online', 'portal']\n",
      "Pronoun         2          ['what', 'their']\n"
     ]
    }
   ],
   "source": [
    "count = []\n",
    "for key in data:\n",
    "    data[key] = list(set(data[key]))\n",
    "    count.append(len(data[key]))\n",
    "print (\"{:<12} {:<10} {:<10}\".format('Part of Speech', 'Count', 'Words'))\n",
    "for key,cnt in zip(data,count):\n",
    "    print(\"{:<12}    {:<10} {:}\".format(key.capitalize(), cnt, data[key]))"
   ]
  },
  {
   "cell_type": "code",
   "execution_count": null,
   "metadata": {},
   "outputs": [],
   "source": []
  }
 ],
 "metadata": {
  "kernelspec": {
   "display_name": "Python 3",
   "language": "python",
   "name": "python3"
  },
  "language_info": {
   "codemirror_mode": {
    "name": "ipython",
    "version": 3
   },
   "file_extension": ".py",
   "mimetype": "text/x-python",
   "name": "python",
   "nbconvert_exporter": "python",
   "pygments_lexer": "ipython3",
   "version": "3.7.1"
  }
 },
 "nbformat": 4,
 "nbformat_minor": 4
}
